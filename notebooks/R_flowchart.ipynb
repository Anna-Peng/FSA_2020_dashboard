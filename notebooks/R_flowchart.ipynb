{
 "cells": [
  {
   "cell_type": "code",
   "execution_count": 1,
   "metadata": {},
   "outputs": [],
   "source": [
    "library(visNetwork)\n",
    "library(magrittr)"
   ]
  },
  {
   "cell_type": "code",
   "execution_count": 4,
   "metadata": {},
   "outputs": [],
   "source": [
    "NODES = data.frame(id = 1:10,\n",
    "                   label = c(\"Input:\\n[parameters.yml]\",\n",
    "                             \"Interim:\\n[site1-postcode1.json],\\n[site1-postcode2.json],\\n...\",\n",
    "                             \"Interim:\\n[site1-postcode1.csv],\\n[site1-postcode2.csv],\\n...\",\n",
    "                             \"\\nSQLite database\\n(data/processed/):\\n\\n[foobar.db]\",\n",
    "                             \"Interactive dashboard\",\n",
    "                            \"Input (data/raw/):\\n[Platforms_editable.csv],\\n[PlatformTypes_editable.csv]\",\n",
    "                            \"Input (FHRS API):\\n[FHRSwrapper::get_businesstypes]\",\n",
    "                            \"Interim (data/interim/):\\n[Platforms_dbpart.csv],\\n[dbPart_platformTypes_dbpart.csv],\\n[platformPlatformTypes_dbpart.csv]\",\n",
    "                            \"Interim (data/interim/):\\n[BusinessTypes_dbpart.csv]\", \n",
    "                            \"Job: Create SQLite database\"),\n",
    "                   title = c(\"Input file with all the combination of website URLs / scraper classes / postcodes (/ other parameters?) to use\",\n",
    "                            \"Raw output of the scrapers, 1 file per combination of websites X postcode\", \n",
    "                            \"Processed output of the scrapres, 1 csv file per combination of websites X postcode\",              \n",
    "                            \"Cleaned up collection of the data, is only updated when a new processed csv file is found, (Information of the preprocessing class is provided in the input yaml)\", \n",
    "                            \"Shiny based dashboard\",\n",
    "                            \"Lists of Platforms and platformTypes that can easily be edited\",\n",
    "                            \"List of BusinessTypes that is easily edited\",\n",
    "                            \"3 prepared csv files about Platforms that will be used as input for the database\",        \n",
    "                            \"1 prepared csv files about BusinessTypes that will be used as input for the database\",\n",
    "                            \"Use the prepared csvs to populate the static parts of the database\"),\n",
    "                   shape = c(\"box\", \"box\", \"box\", \"database\", \"box\", \"box\", \"box\", \"box\", \"box\", \"text\"),       \n",
    "                   color = c(\"#b8feae\",\"#faf3b1\",\"#faf3b1\",\"#f0f0f0\",\"#fed6ff\", \"#b8feae\", \"#b8feae\", \"#faf3b1\", \"#faf3b1\",NA),\n",
    "                   size = c(rep(1,4),100,rep(1,5))\n",
    "                   )\n",
    "EDGES = data.frame(from = c(1:4,6,7,8,9,10),\n",
    "                   to = c(2:5,8,9,10,10, 4),\n",
    "                  label = c(\"Jobs: Scraping websites\",\n",
    "                           \"Jobs: Preprocessing listings\",\n",
    "                           \"Jobs: Updating database\",\n",
    "                           NA,\n",
    "                           \"Job: Prepare dbpart Platforms\",\n",
    "                           \"Job: Prepare dbpart BusinessTypes\",\n",
    "                           NA,\n",
    "                           NA,\n",
    "                           NA),\n",
    "                  title = c(\"1 scraping job per combination of websites X postcode\",\n",
    "                           \"1 prepocessing job per combination of websites X postcode\",\n",
    "                           \"1 updating job per combination of websites X postcode\",\n",
    "                           \"Shiny automatically uses updated db\",\n",
    "                           NA,\n",
    "                           NA,\n",
    "                           NA,\n",
    "                           NA,\n",
    "                           NA),\n",
    "                   arrows = c(rep(\"to\",6), NA, NA, \"to\"),\n",
    "                   color = c(rep(\"#c2c2c2\", 3),\"#ad89ae\", rep(\"#c2c2c2\", 5)),\n",
    "                   dashes = c(F,F,F,T,F,F,F,F,F),\n",
    "                  length = c(rep(300,6),150, 150, 150))"
   ]
  },
  {
   "cell_type": "code",
   "execution_count": null,
   "metadata": {},
   "outputs": [],
   "source": [
    "visNetwork(NODES, EDGES, height = \"900px\", with = \"900px\") %>%\n",
    "visPhysics(\"repulsion\") %>%\n",
    "  visInteraction(dragNodes = FALSE, \n",
    "                 dragView = FALSE,\n",
    "                 zoomView = FALSE) %>%\n",
    "visLayout(randomSeed = \"1234567\")"
   ]
  }
 ],
 "metadata": {
  "kernelspec": {
   "display_name": "R",
   "language": "R",
   "name": "ir"
  },
  "language_info": {
   "codemirror_mode": "r",
   "file_extension": ".r",
   "mimetype": "text/x-r-source",
   "name": "R",
   "pygments_lexer": "r",
   "version": "3.6.3"
  }
 },
 "nbformat": 4,
 "nbformat_minor": 4
}
